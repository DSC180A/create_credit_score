{
 "cells": [
  {
   "cell_type": "markdown",
   "id": "7261195a",
   "metadata": {},
   "source": [
    "# Importing necessary libraries"
   ]
  },
  {
   "cell_type": "code",
   "execution_count": 1,
   "id": "9b7c5948-ea2a-47d1-aea3-c290d345ba91",
   "metadata": {},
   "outputs": [],
   "source": [
    "from collections import Counter\n",
    "from zipfile import ZipFile\n",
    "import warnings\n",
    "warnings.filterwarnings(\"ignore\")\n",
    "\n",
    "import pandas as pd\n",
    "from imblearn.over_sampling import SMOTE\n",
    "from sklearn.model_selection import train_test_split\n",
    "from sklearn.preprocessing import OneHotEncoder\n",
    "from sklearn.preprocessing import StandardScaler\n",
    "from sklearn.decomposition import PCA\n",
    "from sklearn.ensemble import RandomForestClassifier\n",
    "from sklearn.linear_model import LogisticRegression\n",
    "from sklearn.ensemble import RandomForestClassifier\n",
    "from sklearn.metrics import confusion_matrix\n",
    "from sklearn.metrics import classification_report\n",
    "from sklearn.metrics import roc_auc_score\n",
    "from sklearn.metrics import roc_curve\n",
    "from sklearn.feature_selection import SelectKBest, chi2\n",
    "from sklearn.model_selection import GridSearchCV\n",
    "\n",
    "import matplotlib.pyplot as plt \n",
    "\n",
    "from xgboost import XGBClassifier\n",
    "import numpy as np"
   ]
  },
  {
   "cell_type": "markdown",
   "id": "cfb4f054",
   "metadata": {},
   "source": [
    "# Preparing data"
   ]
  },
  {
   "cell_type": "code",
   "execution_count": 4,
   "id": "60310b5f",
   "metadata": {},
   "outputs": [
    {
     "data": {
      "text/html": [
       "<div>\n",
       "<style scoped>\n",
       "    .dataframe tbody tr th:only-of-type {\n",
       "        vertical-align: middle;\n",
       "    }\n",
       "\n",
       "    .dataframe tbody tr th {\n",
       "        vertical-align: top;\n",
       "    }\n",
       "\n",
       "    .dataframe thead th {\n",
       "        text-align: right;\n",
       "    }\n",
       "</style>\n",
       "<table border=\"1\" class=\"dataframe\">\n",
       "  <thead>\n",
       "    <tr style=\"text-align: right;\">\n",
       "      <th></th>\n",
       "      <th>is_app_approved</th>\n",
       "      <th>bad</th>\n",
       "      <th>annual_income</th>\n",
       "      <th>all0000</th>\n",
       "      <th>all0060</th>\n",
       "      <th>all0061</th>\n",
       "      <th>all0101</th>\n",
       "      <th>all0200</th>\n",
       "      <th>all0201</th>\n",
       "      <th>all0206</th>\n",
       "      <th>...</th>\n",
       "      <th>state_code_SD</th>\n",
       "      <th>state_code_TN</th>\n",
       "      <th>state_code_TX</th>\n",
       "      <th>state_code_UT</th>\n",
       "      <th>state_code_VA</th>\n",
       "      <th>state_code_VT</th>\n",
       "      <th>state_code_WA</th>\n",
       "      <th>state_code_WI</th>\n",
       "      <th>state_code_WV</th>\n",
       "      <th>state_code_WY</th>\n",
       "    </tr>\n",
       "  </thead>\n",
       "  <tbody>\n",
       "    <tr>\n",
       "      <th>0</th>\n",
       "      <td>1</td>\n",
       "      <td>0.0</td>\n",
       "      <td>15171</td>\n",
       "      <td>10.0</td>\n",
       "      <td>8.000000</td>\n",
       "      <td>8.000000</td>\n",
       "      <td>0.0</td>\n",
       "      <td>9.0</td>\n",
       "      <td>0.0</td>\n",
       "      <td>1.0</td>\n",
       "      <td>...</td>\n",
       "      <td>0</td>\n",
       "      <td>0</td>\n",
       "      <td>0</td>\n",
       "      <td>0</td>\n",
       "      <td>0</td>\n",
       "      <td>0</td>\n",
       "      <td>0</td>\n",
       "      <td>0</td>\n",
       "      <td>0</td>\n",
       "      <td>0</td>\n",
       "    </tr>\n",
       "    <tr>\n",
       "      <th>1</th>\n",
       "      <td>1</td>\n",
       "      <td>0.0</td>\n",
       "      <td>20000</td>\n",
       "      <td>3.0</td>\n",
       "      <td>4.165954</td>\n",
       "      <td>5.237061</td>\n",
       "      <td>0.0</td>\n",
       "      <td>3.0</td>\n",
       "      <td>0.0</td>\n",
       "      <td>0.0</td>\n",
       "      <td>...</td>\n",
       "      <td>0</td>\n",
       "      <td>0</td>\n",
       "      <td>0</td>\n",
       "      <td>0</td>\n",
       "      <td>0</td>\n",
       "      <td>0</td>\n",
       "      <td>0</td>\n",
       "      <td>0</td>\n",
       "      <td>0</td>\n",
       "      <td>0</td>\n",
       "    </tr>\n",
       "    <tr>\n",
       "      <th>2</th>\n",
       "      <td>1</td>\n",
       "      <td>0.0</td>\n",
       "      <td>7000</td>\n",
       "      <td>6.0</td>\n",
       "      <td>4.165954</td>\n",
       "      <td>5.237061</td>\n",
       "      <td>0.0</td>\n",
       "      <td>4.0</td>\n",
       "      <td>0.0</td>\n",
       "      <td>0.0</td>\n",
       "      <td>...</td>\n",
       "      <td>0</td>\n",
       "      <td>0</td>\n",
       "      <td>0</td>\n",
       "      <td>0</td>\n",
       "      <td>0</td>\n",
       "      <td>0</td>\n",
       "      <td>0</td>\n",
       "      <td>0</td>\n",
       "      <td>0</td>\n",
       "      <td>0</td>\n",
       "    </tr>\n",
       "    <tr>\n",
       "      <th>3</th>\n",
       "      <td>1</td>\n",
       "      <td>1.0</td>\n",
       "      <td>18000</td>\n",
       "      <td>3.0</td>\n",
       "      <td>1.000000</td>\n",
       "      <td>1.000000</td>\n",
       "      <td>0.0</td>\n",
       "      <td>2.0</td>\n",
       "      <td>0.0</td>\n",
       "      <td>0.0</td>\n",
       "      <td>...</td>\n",
       "      <td>0</td>\n",
       "      <td>0</td>\n",
       "      <td>0</td>\n",
       "      <td>0</td>\n",
       "      <td>0</td>\n",
       "      <td>0</td>\n",
       "      <td>0</td>\n",
       "      <td>0</td>\n",
       "      <td>0</td>\n",
       "      <td>0</td>\n",
       "    </tr>\n",
       "    <tr>\n",
       "      <th>4</th>\n",
       "      <td>1</td>\n",
       "      <td>0.0</td>\n",
       "      <td>30000</td>\n",
       "      <td>6.0</td>\n",
       "      <td>4.165954</td>\n",
       "      <td>5.237061</td>\n",
       "      <td>0.0</td>\n",
       "      <td>2.0</td>\n",
       "      <td>0.0</td>\n",
       "      <td>0.0</td>\n",
       "      <td>...</td>\n",
       "      <td>0</td>\n",
       "      <td>0</td>\n",
       "      <td>0</td>\n",
       "      <td>0</td>\n",
       "      <td>0</td>\n",
       "      <td>0</td>\n",
       "      <td>0</td>\n",
       "      <td>0</td>\n",
       "      <td>0</td>\n",
       "      <td>0</td>\n",
       "    </tr>\n",
       "  </tbody>\n",
       "</table>\n",
       "<p>5 rows × 887 columns</p>\n",
       "</div>"
      ],
      "text/plain": [
       "   is_app_approved  bad  annual_income  all0000   all0060   all0061  all0101  \\\n",
       "0                1  0.0          15171     10.0  8.000000  8.000000      0.0   \n",
       "1                1  0.0          20000      3.0  4.165954  5.237061      0.0   \n",
       "2                1  0.0           7000      6.0  4.165954  5.237061      0.0   \n",
       "3                1  1.0          18000      3.0  1.000000  1.000000      0.0   \n",
       "4                1  0.0          30000      6.0  4.165954  5.237061      0.0   \n",
       "\n",
       "   all0200  all0201  all0206  ...  state_code_SD  state_code_TN  \\\n",
       "0      9.0      0.0      1.0  ...              0              0   \n",
       "1      3.0      0.0      0.0  ...              0              0   \n",
       "2      4.0      0.0      0.0  ...              0              0   \n",
       "3      2.0      0.0      0.0  ...              0              0   \n",
       "4      2.0      0.0      0.0  ...              0              0   \n",
       "\n",
       "   state_code_TX  state_code_UT  state_code_VA  state_code_VT  state_code_WA  \\\n",
       "0              0              0              0              0              0   \n",
       "1              0              0              0              0              0   \n",
       "2              0              0              0              0              0   \n",
       "3              0              0              0              0              0   \n",
       "4              0              0              0              0              0   \n",
       "\n",
       "   state_code_WI  state_code_WV  state_code_WY  \n",
       "0              0              0              0  \n",
       "1              0              0              0  \n",
       "2              0              0              0  \n",
       "3              0              0              0  \n",
       "4              0              0              0  \n",
       "\n",
       "[5 rows x 887 columns]"
      ]
     },
     "execution_count": 4,
     "metadata": {},
     "output_type": "execute_result"
    }
   ],
   "source": [
    "zip_file = ZipFile('../../data/out/clean.zip')\n",
    "df_clean = pd.read_csv(zip_file.open('clean.csv'))\n",
    "\n",
    "df_clean.head()"
   ]
  },
  {
   "cell_type": "markdown",
   "id": "62cd8987",
   "metadata": {},
   "source": [
    "## Oversampling"
   ]
  },
  {
   "cell_type": "code",
   "execution_count": 12,
   "id": "4216b0df",
   "metadata": {},
   "outputs": [],
   "source": [
    "# oversample = SMOTE()\n",
    "X = df_clean.drop(columns='bad')\n",
    "y = df_clean.bad.astype(int)\n",
    "# counter = Counter(y)\n",
    "# print(counter)\n",
    "\n",
    "# X,y = oversample.fit_resample(X,y)\n",
    "# counter = Counter(y)\n",
    "# print(counter)"
   ]
  },
  {
   "cell_type": "markdown",
   "id": "ccbf8bdd",
   "metadata": {},
   "source": [
    "## Standard Scale the data"
   ]
  },
  {
   "cell_type": "code",
   "execution_count": 13,
   "id": "0ce01708",
   "metadata": {},
   "outputs": [],
   "source": [
    "scaler = StandardScaler()\n",
    "scaler.fit(X)\n",
    "scaled_data = pd.DataFrame(scaler.transform(X), columns = X.columns)\n",
    "X = scaled_data"
   ]
  },
  {
   "cell_type": "markdown",
   "id": "386eba1f",
   "metadata": {},
   "source": [
    "Splitting the dataset into train/test"
   ]
  },
  {
   "cell_type": "code",
   "execution_count": 14,
   "id": "c40ad69e",
   "metadata": {},
   "outputs": [],
   "source": [
    "X_train, X_test, y_train, y_test = train_test_split(X, y, test_size=0.3, random_state=42)"
   ]
  },
  {
   "cell_type": "markdown",
   "id": "06130e6b",
   "metadata": {},
   "source": [
    "## Oversampling on training"
   ]
  },
  {
   "cell_type": "code",
   "execution_count": 15,
   "id": "728263d1",
   "metadata": {},
   "outputs": [
    {
     "name": "stdout",
     "output_type": "stream",
     "text": [
      "Counter({0: 27212, 1: 2570})\n",
      "Counter({0: 27212, 1: 27212})\n"
     ]
    }
   ],
   "source": [
    "oversample = SMOTE()\n",
    "counter = Counter(y_train)\n",
    "print(counter)\n",
    "\n",
    "X_train,y_train = oversample.fit_resample(X_train,y_train)\n",
    "counter = Counter(y_train)\n",
    "print(counter)"
   ]
  },
  {
   "cell_type": "markdown",
   "id": "6e5cb4e1",
   "metadata": {},
   "source": [
    "# Models"
   ]
  },
  {
   "cell_type": "markdown",
   "id": "d25fab07",
   "metadata": {},
   "source": [
    "## Logistic Regression"
   ]
  },
  {
   "cell_type": "code",
   "execution_count": 16,
   "id": "60fd3b22",
   "metadata": {},
   "outputs": [
    {
     "name": "stdout",
     "output_type": "stream",
     "text": [
      "[[8017 3625]\n",
      " [ 485  638]]\n",
      "              precision    recall  f1-score   support\n",
      "\n",
      "           0       0.94      0.69      0.80     11642\n",
      "           1       0.15      0.57      0.24      1123\n",
      "\n",
      "    accuracy                           0.68     12765\n",
      "   macro avg       0.55      0.63      0.52     12765\n",
      "weighted avg       0.87      0.68      0.75     12765\n",
      "\n"
     ]
    }
   ],
   "source": [
    "logit = LogisticRegression()\n",
    "logit.fit(X_train, y_train)\n",
    "y_pred = logit.predict(X_test)\n",
    "\n",
    "print(confusion_matrix(y_test, y_pred))\n",
    "print(classification_report(y_test, y_pred))"
   ]
  },
  {
   "cell_type": "markdown",
   "id": "8ac719de",
   "metadata": {},
   "source": [
    "## XGBoost"
   ]
  },
  {
   "cell_type": "code",
   "execution_count": 17,
   "id": "4dd9cc8e",
   "metadata": {},
   "outputs": [
    {
     "name": "stdout",
     "output_type": "stream",
     "text": [
      "[17:59:01] WARNING: /var/folders/sy/f16zz6x50xz3113nwtb9bvq00000gp/T/abs_44tbtwf8c1/croots/recipe/xgboost-split_1659548960882/work/src/learner.cc:1115: Starting in XGBoost 1.3.0, the default evaluation metric used with the objective 'binary:logistic' was changed from 'error' to 'logloss'. Explicitly set eval_metric if you'd like to restore the old behavior.\n",
      "[[11549    93]\n",
      " [ 1046    77]]\n",
      "              precision    recall  f1-score   support\n",
      "\n",
      "           0       0.92      0.99      0.95     11642\n",
      "           1       0.45      0.07      0.12      1123\n",
      "\n",
      "    accuracy                           0.91     12765\n",
      "   macro avg       0.68      0.53      0.54     12765\n",
      "weighted avg       0.88      0.91      0.88     12765\n",
      "\n"
     ]
    }
   ],
   "source": [
    "xgboost = XGBClassifier()\n",
    "xgboost.fit(X_train, y_train)\n",
    "y_pred = xgboost.predict(X_test)\n",
    "\n",
    "print(confusion_matrix(y_test, y_pred))\n",
    "print(classification_report(y_test, y_pred))"
   ]
  },
  {
   "cell_type": "markdown",
   "id": "2e414bdf",
   "metadata": {},
   "source": [
    "## Random Forest"
   ]
  },
  {
   "cell_type": "code",
   "execution_count": 18,
   "id": "48707560",
   "metadata": {},
   "outputs": [
    {
     "name": "stdout",
     "output_type": "stream",
     "text": [
      "[[11610    32]\n",
      " [ 1075    48]]\n",
      "              precision    recall  f1-score   support\n",
      "\n",
      "           0       0.92      1.00      0.95     11642\n",
      "           1       0.60      0.04      0.08      1123\n",
      "\n",
      "    accuracy                           0.91     12765\n",
      "   macro avg       0.76      0.52      0.52     12765\n",
      "weighted avg       0.89      0.91      0.88     12765\n",
      "\n"
     ]
    }
   ],
   "source": [
    "rdnfst = RandomForestClassifier()\n",
    "rdnfst.fit(X_train, y_train)\n",
    "y_pred = rdnfst.predict(X_test)\n",
    "\n",
    "print(confusion_matrix(y_test, y_pred))\n",
    "print(classification_report(y_test, y_pred))"
   ]
  },
  {
   "cell_type": "markdown",
   "id": "e1e9fd16",
   "metadata": {},
   "source": [
    "# Week 8 Discussion "
   ]
  },
  {
   "cell_type": "code",
   "execution_count": 19,
   "id": "48707560",
   "metadata": {},
   "outputs": [],
   "source": [
    "para_grid = {\n",
    "'n_estimators': [100,200],\n",
    " 'max_depth': [20,50,100],\n",
    " 'min_samples_leaf': [1, 2, 4],\n",
    " 'min_samples_split': [2, 5, 10],\n",
    " }\n",
    "\n",
    "rdnfst = RandomForestClassifier(n_jobs=-1)\n",
    "clf = GridSearchCV(rdnfst, para_grid, scoring='roc_auc')\n",
    "clf.fit(X_train, y_train)\n",
    "y_pred = clf.predict(X_test)\n"
   ]
  },
  {
   "cell_type": "code",
   "execution_count": 20,
   "id": "e6878045",
   "metadata": {},
   "outputs": [
    {
     "data": {
      "text/plain": [
       "{'max_depth': 100,\n",
       " 'min_samples_leaf': 1,\n",
       " 'min_samples_split': 2,\n",
       " 'n_estimators': 200}"
      ]
     },
     "execution_count": 20,
     "metadata": {},
     "output_type": "execute_result"
    }
   ],
   "source": [
    "clf.best_params_"
   ]
  },
  {
   "cell_type": "code",
   "execution_count": 24,
   "id": "e8dfe1df",
   "metadata": {},
   "outputs": [
    {
     "data": {
      "text/html": [
       "<div>\n",
       "<style scoped>\n",
       "    .dataframe tbody tr th:only-of-type {\n",
       "        vertical-align: middle;\n",
       "    }\n",
       "\n",
       "    .dataframe tbody tr th {\n",
       "        vertical-align: top;\n",
       "    }\n",
       "\n",
       "    .dataframe thead th {\n",
       "        text-align: right;\n",
       "    }\n",
       "</style>\n",
       "<table border=\"1\" class=\"dataframe\">\n",
       "  <thead>\n",
       "    <tr style=\"text-align: right;\">\n",
       "      <th></th>\n",
       "      <th>mean_fit_time</th>\n",
       "      <th>std_fit_time</th>\n",
       "      <th>mean_score_time</th>\n",
       "      <th>std_score_time</th>\n",
       "      <th>param_max_depth</th>\n",
       "      <th>param_min_samples_leaf</th>\n",
       "      <th>param_min_samples_split</th>\n",
       "      <th>param_n_estimators</th>\n",
       "      <th>params</th>\n",
       "      <th>split0_test_score</th>\n",
       "      <th>split1_test_score</th>\n",
       "      <th>split2_test_score</th>\n",
       "      <th>split3_test_score</th>\n",
       "      <th>split4_test_score</th>\n",
       "      <th>mean_test_score</th>\n",
       "      <th>std_test_score</th>\n",
       "      <th>rank_test_score</th>\n",
       "    </tr>\n",
       "  </thead>\n",
       "  <tbody>\n",
       "    <tr>\n",
       "      <th>37</th>\n",
       "      <td>10.578602</td>\n",
       "      <td>0.253314</td>\n",
       "      <td>0.078766</td>\n",
       "      <td>0.001358</td>\n",
       "      <td>100</td>\n",
       "      <td>1</td>\n",
       "      <td>2</td>\n",
       "      <td>200</td>\n",
       "      <td>{'max_depth': 100, 'min_samples_leaf': 1, 'min...</td>\n",
       "      <td>0.962275</td>\n",
       "      <td>0.999774</td>\n",
       "      <td>0.999919</td>\n",
       "      <td>0.999924</td>\n",
       "      <td>0.999647</td>\n",
       "      <td>0.992308</td>\n",
       "      <td>0.015017</td>\n",
       "      <td>1</td>\n",
       "    </tr>\n",
       "    <tr>\n",
       "      <th>19</th>\n",
       "      <td>10.815869</td>\n",
       "      <td>0.200412</td>\n",
       "      <td>0.080642</td>\n",
       "      <td>0.001373</td>\n",
       "      <td>50</td>\n",
       "      <td>1</td>\n",
       "      <td>2</td>\n",
       "      <td>200</td>\n",
       "      <td>{'max_depth': 50, 'min_samples_leaf': 1, 'min_...</td>\n",
       "      <td>0.961092</td>\n",
       "      <td>0.999824</td>\n",
       "      <td>0.999899</td>\n",
       "      <td>0.999923</td>\n",
       "      <td>0.999652</td>\n",
       "      <td>0.992078</td>\n",
       "      <td>0.015494</td>\n",
       "      <td>2</td>\n",
       "    </tr>\n",
       "    <tr>\n",
       "      <th>21</th>\n",
       "      <td>10.601401</td>\n",
       "      <td>0.238114</td>\n",
       "      <td>0.079920</td>\n",
       "      <td>0.001613</td>\n",
       "      <td>50</td>\n",
       "      <td>1</td>\n",
       "      <td>5</td>\n",
       "      <td>200</td>\n",
       "      <td>{'max_depth': 50, 'min_samples_leaf': 1, 'min_...</td>\n",
       "      <td>0.960079</td>\n",
       "      <td>0.999747</td>\n",
       "      <td>0.999885</td>\n",
       "      <td>0.999878</td>\n",
       "      <td>0.999634</td>\n",
       "      <td>0.991845</td>\n",
       "      <td>0.015883</td>\n",
       "      <td>3</td>\n",
       "    </tr>\n",
       "    <tr>\n",
       "      <th>1</th>\n",
       "      <td>10.175421</td>\n",
       "      <td>0.378451</td>\n",
       "      <td>0.081814</td>\n",
       "      <td>0.003225</td>\n",
       "      <td>20</td>\n",
       "      <td>1</td>\n",
       "      <td>2</td>\n",
       "      <td>200</td>\n",
       "      <td>{'max_depth': 20, 'min_samples_leaf': 1, 'min_...</td>\n",
       "      <td>0.959555</td>\n",
       "      <td>0.999608</td>\n",
       "      <td>0.999767</td>\n",
       "      <td>0.999753</td>\n",
       "      <td>0.999528</td>\n",
       "      <td>0.991642</td>\n",
       "      <td>0.016044</td>\n",
       "      <td>4</td>\n",
       "    </tr>\n",
       "    <tr>\n",
       "      <th>39</th>\n",
       "      <td>10.372949</td>\n",
       "      <td>0.097007</td>\n",
       "      <td>0.078431</td>\n",
       "      <td>0.001481</td>\n",
       "      <td>100</td>\n",
       "      <td>1</td>\n",
       "      <td>5</td>\n",
       "      <td>200</td>\n",
       "      <td>{'max_depth': 100, 'min_samples_leaf': 1, 'min...</td>\n",
       "      <td>0.958994</td>\n",
       "      <td>0.999743</td>\n",
       "      <td>0.999870</td>\n",
       "      <td>0.999860</td>\n",
       "      <td>0.999627</td>\n",
       "      <td>0.991619</td>\n",
       "      <td>0.016313</td>\n",
       "      <td>5</td>\n",
       "    </tr>\n",
       "  </tbody>\n",
       "</table>\n",
       "</div>"
      ],
      "text/plain": [
       "    mean_fit_time  std_fit_time  mean_score_time  std_score_time  \\\n",
       "37      10.578602      0.253314         0.078766        0.001358   \n",
       "19      10.815869      0.200412         0.080642        0.001373   \n",
       "21      10.601401      0.238114         0.079920        0.001613   \n",
       "1       10.175421      0.378451         0.081814        0.003225   \n",
       "39      10.372949      0.097007         0.078431        0.001481   \n",
       "\n",
       "   param_max_depth param_min_samples_leaf param_min_samples_split  \\\n",
       "37             100                      1                       2   \n",
       "19              50                      1                       2   \n",
       "21              50                      1                       5   \n",
       "1               20                      1                       2   \n",
       "39             100                      1                       5   \n",
       "\n",
       "   param_n_estimators                                             params  \\\n",
       "37                200  {'max_depth': 100, 'min_samples_leaf': 1, 'min...   \n",
       "19                200  {'max_depth': 50, 'min_samples_leaf': 1, 'min_...   \n",
       "21                200  {'max_depth': 50, 'min_samples_leaf': 1, 'min_...   \n",
       "1                 200  {'max_depth': 20, 'min_samples_leaf': 1, 'min_...   \n",
       "39                200  {'max_depth': 100, 'min_samples_leaf': 1, 'min...   \n",
       "\n",
       "    split0_test_score  split1_test_score  split2_test_score  \\\n",
       "37           0.962275           0.999774           0.999919   \n",
       "19           0.961092           0.999824           0.999899   \n",
       "21           0.960079           0.999747           0.999885   \n",
       "1            0.959555           0.999608           0.999767   \n",
       "39           0.958994           0.999743           0.999870   \n",
       "\n",
       "    split3_test_score  split4_test_score  mean_test_score  std_test_score  \\\n",
       "37           0.999924           0.999647         0.992308        0.015017   \n",
       "19           0.999923           0.999652         0.992078        0.015494   \n",
       "21           0.999878           0.999634         0.991845        0.015883   \n",
       "1            0.999753           0.999528         0.991642        0.016044   \n",
       "39           0.999860           0.999627         0.991619        0.016313   \n",
       "\n",
       "    rank_test_score  \n",
       "37                1  \n",
       "19                2  \n",
       "21                3  \n",
       "1                 4  \n",
       "39                5  "
      ]
     },
     "metadata": {},
     "output_type": "display_data"
    }
   ],
   "source": [
    "display(pd.DataFrame(clf.cv_results_).sort_values(by='rank_test_score').head())"
   ]
  },
  {
   "cell_type": "code",
   "execution_count": 25,
   "id": "eba5c95c",
   "metadata": {},
   "outputs": [
    {
     "data": {
      "image/png": "[encoded data removed]",
      "text/plain": [
       "<Figure size 432x288 with 2 Axes>"
      ]
     },
     "metadata": {
      "needs_background": "light"
     },
     "output_type": "display_data"
    },
    {
     "data": {
      "text/plain": [
       "<Figure size 432x288 with 0 Axes>"
      ]
     },
     "metadata": {},
     "output_type": "display_data"
    }
   ],
   "source": [
    "fig, axes = plt.subplots(1, 2, sharey=True)\n",
    "\n",
    "logit_roc_auc = roc_auc_score(y_test, clf.predict_proba(X_test)[:, 1])\n",
    "fpr, tpr, thresholds = roc_curve(y_test, clf.predict_proba(X_test)[:,1])\n",
    "\n",
    "axes[0].plot(fpr, tpr, label='(test_AUC = %0.2f)' % logit_roc_auc)\n",
    "axes[0].plot([0, 1], [0, 1],'r--')\n",
    "\n",
    "axes[0].title.set_text('Receiver operating characteristic')\n",
    "axes[0].legend(loc=\"lower right\")\n",
    "\n",
    "\n",
    "logit_roc_auc = roc_auc_score(y_train, clf.predict_proba(X_train)[:, 1])\n",
    "fpr, tpr, thresholds = roc_curve(y_train, clf.predict_proba(X_train)[:,1])\n",
    "plt.figure()\n",
    "axes[1].plot(fpr, tpr, label='(train_AUC = %0.2f)' % logit_roc_auc)\n",
    "axes[1].plot([0, 1], [0, 1],'r--')\n",
    "\n",
    "axes[1].title.set_text('Receiver operating characteristic')\n",
    "axes[1].legend(loc=\"lower right\")\n",
    "\n",
    "fig.tight_layout()\n",
    "\n",
    "plt.show()"
   ]
  },
  {
   "cell_type": "code",
   "execution_count": null,
   "id": "73eaa403",
   "metadata": {},
   "outputs": [],
   "source": [
    "# def final_model(raw_data):\n",
    "#     clean_data = data_cleaner(raw_data) # Fully cleans data\n",
    "#     final_proba = BEST_MODEL.predict_proba(clean_data)\n",
    "#     final_preds = BEST_MODEL.predict(clean_data)"
   ]
  }
 ],
 "metadata": {
  "kernelspec": {
   "display_name": "Python 3.9.12 ('base')",
   "language": "python",
   "name": "python3"
  },
  "language_info": {
   "codemirror_mode": {
    "name": "ipython",
    "version": 3
   },
   "file_extension": ".py",
   "mimetype": "text/x-python",
   "name": "python",
   "nbconvert_exporter": "python",
   "pygments_lexer": "ipython3",
   "version": "3.9.12"
  },
  "vscode": {
   "interpreter": {
    "hash": "40d3a090f54c6569ab1632332b64b2c03c39dcf918b08424e98f38b5ae0af88f"
   }
  }
 },
 "nbformat": 4,
 "nbformat_minor": 5
}
