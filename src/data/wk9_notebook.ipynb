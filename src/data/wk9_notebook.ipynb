{
 "cells": [
  {
   "cell_type": "code",
   "execution_count": 1,
   "id": "e2e30db5",
   "metadata": {},
   "outputs": [],
   "source": [
    "from zipfile import ZipFile\n",
    "import pandas as pd\n",
    "\n",
    "\n",
    "zip_file = ZipFile('../../data/out/clean.zip')\n",
    "df_clean = pd.read_csv(zip_file.open('clean.csv'))\n",
    "\n"
   ]
  },
  {
   "cell_type": "code",
   "execution_count": 7,
   "id": "d5397619",
   "metadata": {},
   "outputs": [],
   "source": [
    "test = df_clean.iloc[-2000:]"
   ]
  },
  {
   "cell_type": "code",
   "execution_count": 13,
   "id": "c0790a30",
   "metadata": {},
   "outputs": [],
   "source": [
    "test.to_csv('../../test/testdata.csv', index_label=False)"
   ]
  },
  {
   "cell_type": "code",
   "execution_count": null,
   "id": "8d4d715e",
   "metadata": {},
   "outputs": [],
   "source": []
  }
 ],
 "metadata": {
  "kernelspec": {
   "display_name": "Python 3",
   "language": "python",
   "name": "python3"
  },
  "language_info": {
   "codemirror_mode": {
    "name": "ipython",
    "version": 3
   },
   "file_extension": ".py",
   "mimetype": "text/x-python",
   "name": "python",
   "nbconvert_exporter": "python",
   "pygments_lexer": "ipython3",
   "version": "3.8.12"
  }
 },
 "nbformat": 4,
 "nbformat_minor": 5
}
