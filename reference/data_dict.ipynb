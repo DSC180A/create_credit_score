{
 "cells": [
  {
   "cell_type": "code",
   "execution_count": 3,
   "id": "84d3d6a5-f56e-4071-939b-455edde657b8",
   "metadata": {},
   "outputs": [],
   "source": [
    "import pandas as pd"
   ]
  },
  {
   "cell_type": "code",
   "execution_count": 11,
   "id": "f45a20df-95ff-45cd-acf7-6dce5264b857",
   "metadata": {},
   "outputs": [],
   "source": [
    "appendix = pd.read_pickle('dataDictionary.pkl')\n",
    "appendix.to_csv(\"Appendix.csv\")"
   ]
  },
  {
   "cell_type": "code",
   "execution_count": null,
   "id": "aeeb756b-70e1-4038-b0d5-4616d1b4937e",
   "metadata": {},
   "outputs": [],
   "source": []
  }
 ],
 "metadata": {
  "kernelspec": {
   "display_name": "Python 3 (ipykernel)",
   "language": "python",
   "name": "python3"
  },
  "language_info": {
   "codemirror_mode": {
    "name": "ipython",
    "version": 3
   },
   "file_extension": ".py",
   "mimetype": "text/x-python",
   "name": "python",
   "nbconvert_exporter": "python",
   "pygments_lexer": "ipython3",
   "version": "3.9.5"
  }
 },
 "nbformat": 4,
 "nbformat_minor": 5
}
